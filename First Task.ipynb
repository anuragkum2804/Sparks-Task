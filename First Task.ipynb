{
 "cells": [
  {
   "cell_type": "markdown",
   "metadata": {},
   "source": [
    "## Task 1 "
    "## *Author : Anurag Kumar* "
   ]
  },
  {
   "cell_type": "code",
   "execution_count": 1,
   "metadata": {},
   "outputs": [],
   "source": [
    "import numpy as np\n",
    "import pandas as pd\n",
    "import seaborn as sns"
   ]
  },
  {
   "cell_type": "code",
   "execution_count": 2,
   "metadata": {},
   "outputs": [
    {
     "data": {
      "text/html": [
       "<div>\n",
       "<style scoped>\n",
       "    .dataframe tbody tr th:only-of-type {\n",
       "        vertical-align: middle;\n",
       "    }\n",
       "\n",
       "    .dataframe tbody tr th {\n",
       "        vertical-align: top;\n",
       "    }\n",
       "\n",
       "    .dataframe thead th {\n",
       "        text-align: right;\n",
       "    }\n",
       "</style>\n",
       "<table border=\"1\" class=\"dataframe\">\n",
       "  <thead>\n",
       "    <tr style=\"text-align: right;\">\n",
       "      <th></th>\n",
       "      <th>Hours</th>\n",
       "      <th>Scores</th>\n",
       "    </tr>\n",
       "  </thead>\n",
       "  <tbody>\n",
       "    <tr>\n",
       "      <th>0</th>\n",
       "      <td>2.5</td>\n",
       "      <td>21</td>\n",
       "    </tr>\n",
       "    <tr>\n",
       "      <th>1</th>\n",
       "      <td>5.1</td>\n",
       "      <td>47</td>\n",
       "    </tr>\n",
       "    <tr>\n",
       "      <th>2</th>\n",
       "      <td>3.2</td>\n",
       "      <td>27</td>\n",
       "    </tr>\n",
       "    <tr>\n",
       "      <th>3</th>\n",
       "      <td>8.5</td>\n",
       "      <td>75</td>\n",
       "    </tr>\n",
       "    <tr>\n",
       "      <th>4</th>\n",
       "      <td>3.5</td>\n",
       "      <td>30</td>\n",
       "    </tr>\n",
       "  </tbody>\n",
       "</table>\n",
       "</div>"
      ],
      "text/plain": [
       "   Hours  Scores\n",
       "0    2.5      21\n",
       "1    5.1      47\n",
       "2    3.2      27\n",
       "3    8.5      75\n",
       "4    3.5      30"
      ]
     },
     "execution_count": 2,
     "metadata": {},
     "output_type": "execute_result"
    }
   ],
   "source": [
    "df = pd.read_csv('http://bit.ly/w-data')\n",
    "df.head()"
   ]
  },
  {
   "cell_type": "code",
   "execution_count": 3,
   "metadata": {},
   "outputs": [
    {
     "name": "stderr",
     "output_type": "stream",
     "text": [
      "C:\\Users\\ARUN KUMAR\\anaconda3\\lib\\site-packages\\seaborn\\_decorators.py:36: FutureWarning: Pass the following variables as keyword args: x, y. From version 0.12, the only valid positional argument will be `data`, and passing other arguments without an explicit keyword will result in an error or misinterpretation.\n",
      "  warnings.warn(\n"
     ]
    },
    {
     "data": {
      "text/plain": [
       "<AxesSubplot:xlabel='Hours', ylabel='Scores'>"
      ]
     },
     "execution_count": 3,
     "metadata": {},
     "output_type": "execute_result"
    },
    {
     "data": {
      "image/png": "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\n",
      "text/plain": [
       "<Figure size 432x288 with 1 Axes>"
      ]
     },
     "metadata": {
      "needs_background": "light"
     },
     "output_type": "display_data"
    }
   ],
   "source": [
    "sns.regplot('Hours','Scores',data=df)"
   ]
  },
  {
   "cell_type": "code",
   "execution_count": 4,
   "metadata": {},
   "outputs": [
    {
     "data": {
      "text/html": [
       "<div>\n",
       "<style scoped>\n",
       "    .dataframe tbody tr th:only-of-type {\n",
       "        vertical-align: middle;\n",
       "    }\n",
       "\n",
       "    .dataframe tbody tr th {\n",
       "        vertical-align: top;\n",
       "    }\n",
       "\n",
       "    .dataframe thead th {\n",
       "        text-align: right;\n",
       "    }\n",
       "</style>\n",
       "<table border=\"1\" class=\"dataframe\">\n",
       "  <thead>\n",
       "    <tr style=\"text-align: right;\">\n",
       "      <th></th>\n",
       "      <th>Hours</th>\n",
       "    </tr>\n",
       "  </thead>\n",
       "  <tbody>\n",
       "    <tr>\n",
       "      <th>0</th>\n",
       "      <td>2.5</td>\n",
       "    </tr>\n",
       "    <tr>\n",
       "      <th>1</th>\n",
       "      <td>5.1</td>\n",
       "    </tr>\n",
       "    <tr>\n",
       "      <th>2</th>\n",
       "      <td>3.2</td>\n",
       "    </tr>\n",
       "    <tr>\n",
       "      <th>3</th>\n",
       "      <td>8.5</td>\n",
       "    </tr>\n",
       "    <tr>\n",
       "      <th>4</th>\n",
       "      <td>3.5</td>\n",
       "    </tr>\n",
       "  </tbody>\n",
       "</table>\n",
       "</div>"
      ],
      "text/plain": [
       "   Hours\n",
       "0    2.5\n",
       "1    5.1\n",
       "2    3.2\n",
       "3    8.5\n",
       "4    3.5"
      ]
     },
     "execution_count": 4,
     "metadata": {},
     "output_type": "execute_result"
    }
   ],
   "source": [
    "X= df.drop('Scores',axis=1)\n",
    "y= df.drop('Hours',axis=1)\n",
    "from sklearn.model_selection import train_test_split\n",
    "train_X, val_X,train_y,val_y = train_test_split(X, y,random_state=0)\n",
    "X.head()"
   ]
  },
  {
   "cell_type": "code",
   "execution_count": 5,
   "metadata": {},
   "outputs": [
    {
     "data": {
      "text/plain": [
       "LinearRegression()"
      ]
     },
     "execution_count": 5,
     "metadata": {},
     "output_type": "execute_result"
    }
   ],
   "source": [
    "from sklearn.linear_model import LinearRegression\n",
    "reg = LinearRegression()\n",
    "reg.fit(train_X, train_y)"
   ]
  },
  {
   "cell_type": "markdown",
   "metadata": {},
   "source": [
    "#### Calculating Mean and Mean average error of the test data"
   ]
  },
  {
   "cell_type": "code",
   "execution_count": 6,
   "metadata": {},
   "outputs": [
    {
     "name": "stdout",
     "output_type": "stream",
     "text": [
      "4.130879918502486\n",
      "Scores    38.142857\n",
      "dtype: float64\n"
     ]
    }
   ],
   "source": [
    "preds = reg.predict(val_X)\n",
    "from sklearn.metrics import mean_absolute_error as mae\n",
    "print(mae(val_y,preds))\n",
    "print(val_y.mean())"
   ]
  },
  {
   "cell_type": "markdown",
   "metadata": {},
   "source": [
    "#### Predicting Score for 9.25 hours of study"
   ]
  },
  {
   "cell_type": "code",
   "execution_count": 7,
   "metadata": {},
   "outputs": [
    {
     "name": "stdout",
     "output_type": "stream",
     "text": [
      "[93.89272889]\n"
     ]
    }
   ],
   "source": [
    "print(reg.predict([[1],[9.25]])[1])"
   ]
  }
 ],
 "metadata": {
  "kernelspec": {
   "display_name": "Python 3",
   "language": "python",
   "name": "python3"
  },
  "language_info": {
   "codemirror_mode": {
    "name": "ipython",
    "version": 3
   },
   "file_extension": ".py",
   "mimetype": "text/x-python",
   "name": "python",
   "nbconvert_exporter": "python",
   "pygments_lexer": "ipython3",
   "version": "3.8.5"
  }
 },
 "nbformat": 4,
 "nbformat_minor": 4
}

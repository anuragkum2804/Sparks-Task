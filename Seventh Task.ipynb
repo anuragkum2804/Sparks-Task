{
 "cells": [
  {
   "cell_type": "markdown",
   "metadata": {},
   "source": [
    "## Task 7\n",
    "## Author: Anurag Kumar"
   ]
  },
  {
   "cell_type": "code",
   "execution_count": 1,
   "metadata": {},
   "outputs": [],
   "source": [
    "import numpy as np\n",
    "import pandas as pd\n",
    "import seaborn as sns\n",
    "import matplotlib.pyplot as plt\n",
    "from sklearn.preprocessing import MinMaxScaler\n",
    "from sklearn.metrics import mean_squared_error\n",
    "from sklearn import metrics\n",
    "import nltk\n",
    "from nltk.corpus import stopwords\n",
    "#nltk.download('stopwords')\n",
    "#nltk.download('vader_lexicon')\n",
    "from nltk.sentiment.vader import SentimentIntensityAnalyzer\n",
    "from sklearn.ensemble import RandomForestRegressor"
   ]
  },
  {
   "cell_type": "code",
   "execution_count": 66,
   "metadata": {},
   "outputs": [],
   "source": [
    "df = pd.read_csv(r\"C:\\Users\\ARUN KUMAR\\Downloads\\BSESN.xls\")"
   ]
  },
  {
   "cell_type": "code",
   "execution_count": 3,
   "metadata": {},
   "outputs": [
    {
     "data": {
      "text/html": [
       "<div>\n",
       "<style scoped>\n",
       "    .dataframe tbody tr th:only-of-type {\n",
       "        vertical-align: middle;\n",
       "    }\n",
       "\n",
       "    .dataframe tbody tr th {\n",
       "        vertical-align: top;\n",
       "    }\n",
       "\n",
       "    .dataframe thead th {\n",
       "        text-align: right;\n",
       "    }\n",
       "</style>\n",
       "<table border=\"1\" class=\"dataframe\">\n",
       "  <thead>\n",
       "    <tr style=\"text-align: right;\">\n",
       "      <th></th>\n",
       "      <th>Date</th>\n",
       "      <th>Open</th>\n",
       "      <th>High</th>\n",
       "      <th>Low</th>\n",
       "      <th>Close</th>\n",
       "    </tr>\n",
       "  </thead>\n",
       "  <tbody>\n",
       "    <tr>\n",
       "      <th>0</th>\n",
       "      <td>01-Jan-01</td>\n",
       "      <td>3990.65</td>\n",
       "      <td>4021.83</td>\n",
       "      <td>3937.33</td>\n",
       "      <td>3955.08</td>\n",
       "    </tr>\n",
       "    <tr>\n",
       "      <th>1</th>\n",
       "      <td>02-Jan-01</td>\n",
       "      <td>3953.22</td>\n",
       "      <td>4028.57</td>\n",
       "      <td>3929.37</td>\n",
       "      <td>4018.88</td>\n",
       "    </tr>\n",
       "    <tr>\n",
       "      <th>2</th>\n",
       "      <td>03-Jan-01</td>\n",
       "      <td>3977.58</td>\n",
       "      <td>4067.66</td>\n",
       "      <td>3977.58</td>\n",
       "      <td>4060.02</td>\n",
       "    </tr>\n",
       "    <tr>\n",
       "      <th>3</th>\n",
       "      <td>04-Jan-01</td>\n",
       "      <td>4180.97</td>\n",
       "      <td>4180.97</td>\n",
       "      <td>4109.55</td>\n",
       "      <td>4115.37</td>\n",
       "    </tr>\n",
       "    <tr>\n",
       "      <th>4</th>\n",
       "      <td>05-Jan-01</td>\n",
       "      <td>4116.34</td>\n",
       "      <td>4195.01</td>\n",
       "      <td>4115.35</td>\n",
       "      <td>4183.73</td>\n",
       "    </tr>\n",
       "  </tbody>\n",
       "</table>\n",
       "</div>"
      ],
      "text/plain": [
       "        Date     Open     High      Low    Close\n",
       "0  01-Jan-01  3990.65  4021.83  3937.33  3955.08\n",
       "1  02-Jan-01  3953.22  4028.57  3929.37  4018.88\n",
       "2  03-Jan-01  3977.58  4067.66  3977.58  4060.02\n",
       "3  04-Jan-01  4180.97  4180.97  4109.55  4115.37\n",
       "4  05-Jan-01  4116.34  4195.01  4115.35  4183.73"
      ]
     },
     "execution_count": 3,
     "metadata": {},
     "output_type": "execute_result"
    }
   ],
   "source": [
    "df.head()"
   ]
  },
  {
   "cell_type": "code",
   "execution_count": 4,
   "metadata": {},
   "outputs": [
    {
     "data": {
      "text/plain": [
       "Date      object\n",
       "Open     float64\n",
       "High     float64\n",
       "Low      float64\n",
       "Close    float64\n",
       "dtype: object"
      ]
     },
     "execution_count": 4,
     "metadata": {},
     "output_type": "execute_result"
    }
   ],
   "source": [
    "df.dtypes"
   ]
  },
  {
   "cell_type": "code",
   "execution_count": 75,
   "metadata": {},
   "outputs": [
    {
     "name": "stdout",
     "output_type": "stream",
     "text": [
      "<class 'pandas.core.frame.DataFrame'>\n",
      "RangeIndex: 4976 entries, 0 to 4975\n",
      "Data columns (total 5 columns):\n",
      " #   Column  Non-Null Count  Dtype         \n",
      "---  ------  --------------  -----         \n",
      " 0   Date    4976 non-null   datetime64[ns]\n",
      " 1   Open    4976 non-null   float64       \n",
      " 2   High    4976 non-null   float64       \n",
      " 3   Low     4976 non-null   float64       \n",
      " 4   Close   4976 non-null   float64       \n",
      "dtypes: datetime64[ns](1), float64(4)\n",
      "memory usage: 194.5 KB\n"
     ]
    }
   ],
   "source": [
    "df['Date'] = pd.to_datetime(df['Date'])\n",
    "df.info()"
   ]
  },
  {
   "cell_type": "code",
   "execution_count": 6,
   "metadata": {},
   "outputs": [],
   "source": [
    "df.set_index('Date', inplace = True)\n"
   ]
  },
  {
   "cell_type": "code",
   "execution_count": 7,
   "metadata": {},
   "outputs": [
    {
     "data": {
      "text/plain": [
       "Open     0\n",
       "High     0\n",
       "Low      0\n",
       "Close    0\n",
       "dtype: int64"
      ]
     },
     "execution_count": 7,
     "metadata": {},
     "output_type": "execute_result"
    }
   ],
   "source": [
    "df.isna().sum()"
   ]
  },
  {
   "cell_type": "code",
   "execution_count": 8,
   "metadata": {},
   "outputs": [
    {
     "data": {
      "text/html": [
       "<div>\n",
       "<style scoped>\n",
       "    .dataframe tbody tr th:only-of-type {\n",
       "        vertical-align: middle;\n",
       "    }\n",
       "\n",
       "    .dataframe tbody tr th {\n",
       "        vertical-align: top;\n",
       "    }\n",
       "\n",
       "    .dataframe thead th {\n",
       "        text-align: right;\n",
       "    }\n",
       "</style>\n",
       "<table border=\"1\" class=\"dataframe\">\n",
       "  <thead>\n",
       "    <tr style=\"text-align: right;\">\n",
       "      <th></th>\n",
       "      <th>Open</th>\n",
       "      <th>High</th>\n",
       "      <th>Low</th>\n",
       "      <th>Close</th>\n",
       "    </tr>\n",
       "    <tr>\n",
       "      <th>Date</th>\n",
       "      <th></th>\n",
       "      <th></th>\n",
       "      <th></th>\n",
       "      <th></th>\n",
       "    </tr>\n",
       "  </thead>\n",
       "  <tbody>\n",
       "    <tr>\n",
       "      <th>2001-01-01</th>\n",
       "      <td>3990.65</td>\n",
       "      <td>4021.83</td>\n",
       "      <td>3937.33</td>\n",
       "      <td>3955.08</td>\n",
       "    </tr>\n",
       "    <tr>\n",
       "      <th>2001-01-02</th>\n",
       "      <td>3953.22</td>\n",
       "      <td>4028.57</td>\n",
       "      <td>3929.37</td>\n",
       "      <td>4018.88</td>\n",
       "    </tr>\n",
       "    <tr>\n",
       "      <th>2001-01-03</th>\n",
       "      <td>3977.58</td>\n",
       "      <td>4067.66</td>\n",
       "      <td>3977.58</td>\n",
       "      <td>4060.02</td>\n",
       "    </tr>\n",
       "    <tr>\n",
       "      <th>2001-01-04</th>\n",
       "      <td>4180.97</td>\n",
       "      <td>4180.97</td>\n",
       "      <td>4109.55</td>\n",
       "      <td>4115.37</td>\n",
       "    </tr>\n",
       "    <tr>\n",
       "      <th>2001-01-05</th>\n",
       "      <td>4116.34</td>\n",
       "      <td>4195.01</td>\n",
       "      <td>4115.35</td>\n",
       "      <td>4183.73</td>\n",
       "    </tr>\n",
       "  </tbody>\n",
       "</table>\n",
       "</div>"
      ],
      "text/plain": [
       "               Open     High      Low    Close\n",
       "Date                                          \n",
       "2001-01-01  3990.65  4021.83  3937.33  3955.08\n",
       "2001-01-02  3953.22  4028.57  3929.37  4018.88\n",
       "2001-01-03  3977.58  4067.66  3977.58  4060.02\n",
       "2001-01-04  4180.97  4180.97  4109.55  4115.37\n",
       "2001-01-05  4116.34  4195.01  4115.35  4183.73"
      ]
     },
     "execution_count": 8,
     "metadata": {},
     "output_type": "execute_result"
    }
   ],
   "source": [
    "df.head()"
   ]
  },
  {
   "cell_type": "code",
   "execution_count": 9,
   "metadata": {},
   "outputs": [
    {
     "data": {
      "text/plain": [
       "(4976, 4)"
      ]
     },
     "execution_count": 9,
     "metadata": {},
     "output_type": "execute_result"
    }
   ],
   "source": [
    "df.shape"
   ]
  },
  {
   "cell_type": "code",
   "execution_count": 10,
   "metadata": {},
   "outputs": [],
   "source": [
    "df_1 = pd.read_csv(r\"C:\\Users\\ARUN KUMAR\\Downloads\\india-news-headlines.csv\")"
   ]
  },
  {
   "cell_type": "code",
   "execution_count": 11,
   "metadata": {},
   "outputs": [
    {
     "name": "stdout",
     "output_type": "stream",
     "text": [
      "<class 'pandas.core.frame.DataFrame'>\n",
      "RangeIndex: 3424067 entries, 0 to 3424066\n",
      "Data columns (total 3 columns):\n",
      " #   Column             Dtype         \n",
      "---  ------             -----         \n",
      " 0   publish_date       datetime64[ns]\n",
      " 1   headline_category  object        \n",
      " 2   headline_text      object        \n",
      "dtypes: datetime64[ns](1), object(2)\n",
      "memory usage: 78.4+ MB\n"
     ]
    }
   ],
   "source": [
    "df_1[\"publish_date\"] = pd.to_datetime(df_1[\"publish_date\"],format='%Y%m%d')\n",
    "df_1.info()"
   ]
  },
  {
   "cell_type": "code",
   "execution_count": 12,
   "metadata": {},
   "outputs": [
    {
     "data": {
      "text/plain": [
       "0    Status quo will not be disturbed at Ayodhya  s...\n",
       "1                  Fissures in Hurriyat over Pak visit\n",
       "2                America's unwanted heading for India \n",
       "3                   For bigwigs  it is destination Goa\n",
       "4                 Extra buses to clear tourist traffic\n",
       "Name: headline_text, dtype: object"
      ]
     },
     "execution_count": 12,
     "metadata": {},
     "output_type": "execute_result"
    }
   ],
   "source": [
    "df_1.replace(\"[^a-zA-Z']\",\" \",regex=True,inplace=True)\n",
    "df_1[\"headline_text\"].head(5)"
   ]
  },
  {
   "cell_type": "code",
   "execution_count": 23,
   "metadata": {},
   "outputs": [],
   "source": [
    "df_1.set_index('publish_date', inplace = True)"
   ]
  },
  {
   "cell_type": "code",
   "execution_count": 24,
   "metadata": {},
   "outputs": [
    {
     "data": {
      "text/plain": [
       "headline_category    0\n",
       "headline_text        0\n",
       "dtype: int64"
      ]
     },
     "execution_count": 24,
     "metadata": {},
     "output_type": "execute_result"
    }
   ],
   "source": [
    "df_1.isna().sum()"
   ]
  },
  {
   "cell_type": "code",
   "execution_count": 25,
   "metadata": {},
   "outputs": [
    {
     "data": {
      "text/html": [
       "<div>\n",
       "<style scoped>\n",
       "    .dataframe tbody tr th:only-of-type {\n",
       "        vertical-align: middle;\n",
       "    }\n",
       "\n",
       "    .dataframe tbody tr th {\n",
       "        vertical-align: top;\n",
       "    }\n",
       "\n",
       "    .dataframe thead th {\n",
       "        text-align: right;\n",
       "    }\n",
       "</style>\n",
       "<table border=\"1\" class=\"dataframe\">\n",
       "  <thead>\n",
       "    <tr style=\"text-align: right;\">\n",
       "      <th></th>\n",
       "      <th>headline_category</th>\n",
       "      <th>headline_text</th>\n",
       "    </tr>\n",
       "    <tr>\n",
       "      <th>publish_date</th>\n",
       "      <th></th>\n",
       "      <th></th>\n",
       "    </tr>\n",
       "  </thead>\n",
       "  <tbody>\n",
       "    <tr>\n",
       "      <th>2020-12-31</th>\n",
       "      <td>city jodhpur</td>\n",
       "      <td>Covid     Despite dip in cases  Rajasthan amon...</td>\n",
       "    </tr>\n",
       "    <tr>\n",
       "      <th>2020-12-31</th>\n",
       "      <td>city udaipur</td>\n",
       "      <td>Covid     Despite dip in cases  Rajasthan amon...</td>\n",
       "    </tr>\n",
       "    <tr>\n",
       "      <th>2020-12-31</th>\n",
       "      <td>city ajmer</td>\n",
       "      <td>Covid     Despite dip in cases  Rajasthan amon...</td>\n",
       "    </tr>\n",
       "    <tr>\n",
       "      <th>2020-12-31</th>\n",
       "      <td>removed</td>\n",
       "      <td>Govt extends deadline for use of FASTag till F...</td>\n",
       "    </tr>\n",
       "    <tr>\n",
       "      <th>2020-12-31</th>\n",
       "      <td>entertainment bengali movies news</td>\n",
       "      <td>Celebs plan to party safely and responsibly on...</td>\n",
       "    </tr>\n",
       "  </tbody>\n",
       "</table>\n",
       "</div>"
      ],
      "text/plain": [
       "                              headline_category  \\\n",
       "publish_date                                      \n",
       "2020-12-31                         city jodhpur   \n",
       "2020-12-31                         city udaipur   \n",
       "2020-12-31                           city ajmer   \n",
       "2020-12-31                              removed   \n",
       "2020-12-31    entertainment bengali movies news   \n",
       "\n",
       "                                                  headline_text  \n",
       "publish_date                                                     \n",
       "2020-12-31    Covid     Despite dip in cases  Rajasthan amon...  \n",
       "2020-12-31    Covid     Despite dip in cases  Rajasthan amon...  \n",
       "2020-12-31    Covid     Despite dip in cases  Rajasthan amon...  \n",
       "2020-12-31    Govt extends deadline for use of FASTag till F...  \n",
       "2020-12-31    Celebs plan to party safely and responsibly on...  "
      ]
     },
     "execution_count": 25,
     "metadata": {},
     "output_type": "execute_result"
    }
   ],
   "source": [
    "df_1.tail()"
   ]
  },
  {
   "cell_type": "code",
   "execution_count": 15,
   "metadata": {},
   "outputs": [
    {
     "data": {
      "text/html": [
       "<div>\n",
       "<style scoped>\n",
       "    .dataframe tbody tr th:only-of-type {\n",
       "        vertical-align: middle;\n",
       "    }\n",
       "\n",
       "    .dataframe tbody tr th {\n",
       "        vertical-align: top;\n",
       "    }\n",
       "\n",
       "    .dataframe thead th {\n",
       "        text-align: right;\n",
       "    }\n",
       "</style>\n",
       "<table border=\"1\" class=\"dataframe\">\n",
       "  <thead>\n",
       "    <tr style=\"text-align: right;\">\n",
       "      <th></th>\n",
       "      <th>Open</th>\n",
       "      <th>High</th>\n",
       "      <th>Low</th>\n",
       "      <th>Close</th>\n",
       "    </tr>\n",
       "    <tr>\n",
       "      <th>Date</th>\n",
       "      <th></th>\n",
       "      <th></th>\n",
       "      <th></th>\n",
       "      <th></th>\n",
       "    </tr>\n",
       "  </thead>\n",
       "  <tbody>\n",
       "    <tr>\n",
       "      <th>2020-12-24</th>\n",
       "      <td>46743.49</td>\n",
       "      <td>47053.40</td>\n",
       "      <td>46539.02</td>\n",
       "      <td>46973.54</td>\n",
       "    </tr>\n",
       "    <tr>\n",
       "      <th>2020-12-28</th>\n",
       "      <td>47153.59</td>\n",
       "      <td>47406.72</td>\n",
       "      <td>47148.24</td>\n",
       "      <td>47353.75</td>\n",
       "    </tr>\n",
       "    <tr>\n",
       "      <th>2020-12-29</th>\n",
       "      <td>47466.62</td>\n",
       "      <td>47714.55</td>\n",
       "      <td>47361.90</td>\n",
       "      <td>47613.08</td>\n",
       "    </tr>\n",
       "    <tr>\n",
       "      <th>2020-12-30</th>\n",
       "      <td>47789.03</td>\n",
       "      <td>47807.85</td>\n",
       "      <td>47358.36</td>\n",
       "      <td>47746.22</td>\n",
       "    </tr>\n",
       "    <tr>\n",
       "      <th>2020-12-31</th>\n",
       "      <td>47753.11</td>\n",
       "      <td>47896.97</td>\n",
       "      <td>47602.12</td>\n",
       "      <td>47751.33</td>\n",
       "    </tr>\n",
       "  </tbody>\n",
       "</table>\n",
       "</div>"
      ],
      "text/plain": [
       "                Open      High       Low     Close\n",
       "Date                                              \n",
       "2020-12-24  46743.49  47053.40  46539.02  46973.54\n",
       "2020-12-28  47153.59  47406.72  47148.24  47353.75\n",
       "2020-12-29  47466.62  47714.55  47361.90  47613.08\n",
       "2020-12-30  47789.03  47807.85  47358.36  47746.22\n",
       "2020-12-31  47753.11  47896.97  47602.12  47751.33"
      ]
     },
     "execution_count": 15,
     "metadata": {},
     "output_type": "execute_result"
    }
   ],
   "source": [
    "df.tail()"
   ]
  },
  {
   "cell_type": "code",
   "execution_count": 21,
   "metadata": {},
   "outputs": [
    {
     "name": "stdout",
     "output_type": "stream",
     "text": [
      "Collecting textblob\n",
      "  Downloading textblob-0.15.3-py2.py3-none-any.whl (636 kB)\n",
      "Requirement already satisfied: nltk>=3.1 in c:\\users\\arun kumar\\anaconda3\\lib\\site-packages (from textblob) (3.5)\n",
      "Requirement already satisfied: tqdm in c:\\users\\arun kumar\\anaconda3\\lib\\site-packages (from nltk>=3.1->textblob) (4.50.2)\n",
      "Requirement already satisfied: joblib in c:\\users\\arun kumar\\anaconda3\\lib\\site-packages (from nltk>=3.1->textblob) (0.17.0)\n",
      "Requirement already satisfied: regex in c:\\users\\arun kumar\\anaconda3\\lib\\site-packages (from nltk>=3.1->textblob) (2020.10.15)\n",
      "Requirement already satisfied: click in c:\\users\\arun kumar\\anaconda3\\lib\\site-packages (from nltk>=3.1->textblob) (7.1.2)\n",
      "Installing collected packages: textblob\n",
      "Successfully installed textblob-0.15.3\n"
     ]
    }
   ],
   "source": [
    "#!pip install textblob\n",
    "#python -m textblob.download_corpora\n",
    "#conda install -c conda-forge textblob"
   ]
  },
  {
   "cell_type": "code",
   "execution_count": 26,
   "metadata": {},
   "outputs": [],
   "source": [
    "from textblob import TextBlob\n",
    "def getSubjectivity(text):\n",
    "  return TextBlob(text).sentiment.subjectivity\n",
    "\n",
    "def getPolarity(text):\n",
    "  return  TextBlob(text).sentiment.polarity\n",
    "\n",
    "df_1['Subjectivity'] = df_1['headline_text'].apply(getSubjectivity) ##Adding subjectivity score\n",
    "\n",
    "df_1['Polarity'] = df_1['headline_text'].apply(getPolarity) ##Adding polarity scores"
   ]
  },
  {
   "cell_type": "code",
   "execution_count": 27,
   "metadata": {},
   "outputs": [],
   "source": [
    "sia = SentimentIntensityAnalyzer()  ##Adding sentiment score to news\n",
    "df_1['Negative'] = [sia.polarity_scores(v)['neg'] for v in df_1['headline_text']] ##Adding sentiment score to news\n",
    "df_1['Neutral'] = [sia.polarity_scores(v)['neu'] for v in df_1['headline_text']] ##Adding sentiment score to news\n",
    "df_1['Positive'] = [sia.polarity_scores(v)['pos'] for v in df_1['headline_text']] "
   ]
  },
  {
   "cell_type": "code",
   "execution_count": 28,
   "metadata": {},
   "outputs": [
    {
     "data": {
      "text/html": [
       "<div>\n",
       "<style scoped>\n",
       "    .dataframe tbody tr th:only-of-type {\n",
       "        vertical-align: middle;\n",
       "    }\n",
       "\n",
       "    .dataframe tbody tr th {\n",
       "        vertical-align: top;\n",
       "    }\n",
       "\n",
       "    .dataframe thead th {\n",
       "        text-align: right;\n",
       "    }\n",
       "</style>\n",
       "<table border=\"1\" class=\"dataframe\">\n",
       "  <thead>\n",
       "    <tr style=\"text-align: right;\">\n",
       "      <th></th>\n",
       "      <th>headline_category</th>\n",
       "      <th>headline_text</th>\n",
       "      <th>Subjectivity</th>\n",
       "      <th>Polarity</th>\n",
       "      <th>Negative</th>\n",
       "      <th>Neutral</th>\n",
       "      <th>Positive</th>\n",
       "    </tr>\n",
       "    <tr>\n",
       "      <th>publish_date</th>\n",
       "      <th></th>\n",
       "      <th></th>\n",
       "      <th></th>\n",
       "      <th></th>\n",
       "      <th></th>\n",
       "      <th></th>\n",
       "      <th></th>\n",
       "    </tr>\n",
       "  </thead>\n",
       "  <tbody>\n",
       "    <tr>\n",
       "      <th>2001-01-02</th>\n",
       "      <td>unknown</td>\n",
       "      <td>Status quo will not be disturbed at Ayodhya  s...</td>\n",
       "      <td>0.000000</td>\n",
       "      <td>0.00</td>\n",
       "      <td>0.000</td>\n",
       "      <td>0.805</td>\n",
       "      <td>0.195</td>\n",
       "    </tr>\n",
       "    <tr>\n",
       "      <th>2001-01-02</th>\n",
       "      <td>unknown</td>\n",
       "      <td>Fissures in Hurriyat over Pak visit</td>\n",
       "      <td>0.000000</td>\n",
       "      <td>0.00</td>\n",
       "      <td>0.000</td>\n",
       "      <td>1.000</td>\n",
       "      <td>0.000</td>\n",
       "    </tr>\n",
       "    <tr>\n",
       "      <th>2001-01-02</th>\n",
       "      <td>unknown</td>\n",
       "      <td>America's unwanted heading for India</td>\n",
       "      <td>0.000000</td>\n",
       "      <td>0.00</td>\n",
       "      <td>0.322</td>\n",
       "      <td>0.678</td>\n",
       "      <td>0.000</td>\n",
       "    </tr>\n",
       "    <tr>\n",
       "      <th>2001-01-02</th>\n",
       "      <td>unknown</td>\n",
       "      <td>For bigwigs  it is destination Goa</td>\n",
       "      <td>0.000000</td>\n",
       "      <td>0.00</td>\n",
       "      <td>0.000</td>\n",
       "      <td>1.000</td>\n",
       "      <td>0.000</td>\n",
       "    </tr>\n",
       "    <tr>\n",
       "      <th>2001-01-02</th>\n",
       "      <td>unknown</td>\n",
       "      <td>Extra buses to clear tourist traffic</td>\n",
       "      <td>0.241667</td>\n",
       "      <td>0.05</td>\n",
       "      <td>0.000</td>\n",
       "      <td>0.658</td>\n",
       "      <td>0.342</td>\n",
       "    </tr>\n",
       "  </tbody>\n",
       "</table>\n",
       "</div>"
      ],
      "text/plain": [
       "             headline_category  \\\n",
       "publish_date                     \n",
       "2001-01-02             unknown   \n",
       "2001-01-02             unknown   \n",
       "2001-01-02             unknown   \n",
       "2001-01-02             unknown   \n",
       "2001-01-02             unknown   \n",
       "\n",
       "                                                  headline_text  Subjectivity  \\\n",
       "publish_date                                                                    \n",
       "2001-01-02    Status quo will not be disturbed at Ayodhya  s...      0.000000   \n",
       "2001-01-02                  Fissures in Hurriyat over Pak visit      0.000000   \n",
       "2001-01-02                America's unwanted heading for India       0.000000   \n",
       "2001-01-02                   For bigwigs  it is destination Goa      0.000000   \n",
       "2001-01-02                 Extra buses to clear tourist traffic      0.241667   \n",
       "\n",
       "              Polarity  Negative  Neutral  Positive  \n",
       "publish_date                                         \n",
       "2001-01-02        0.00     0.000    0.805     0.195  \n",
       "2001-01-02        0.00     0.000    1.000     0.000  \n",
       "2001-01-02        0.00     0.322    0.678     0.000  \n",
       "2001-01-02        0.00     0.000    1.000     0.000  \n",
       "2001-01-02        0.05     0.000    0.658     0.342  "
      ]
     },
     "execution_count": 28,
     "metadata": {},
     "output_type": "execute_result"
    }
   ],
   "source": [
    "df_1.head()"
   ]
  },
  {
   "cell_type": "code",
   "execution_count": 30,
   "metadata": {},
   "outputs": [
    {
     "data": {
      "text/plain": [
       "(3424067, 7)"
      ]
     },
     "execution_count": 30,
     "metadata": {},
     "output_type": "execute_result"
    }
   ],
   "source": [
    "df_1.shape"
   ]
  },
  {
   "cell_type": "code",
   "execution_count": 34,
   "metadata": {},
   "outputs": [
    {
     "data": {
      "text/plain": [
       "7262"
      ]
     },
     "execution_count": 34,
     "metadata": {},
     "output_type": "execute_result"
    }
   ],
   "source": [
    "df_1.index.nunique()"
   ]
  },
  {
   "cell_type": "code",
   "execution_count": 36,
   "metadata": {},
   "outputs": [
    {
     "data": {
      "text/html": [
       "<div>\n",
       "<style scoped>\n",
       "    .dataframe tbody tr th:only-of-type {\n",
       "        vertical-align: middle;\n",
       "    }\n",
       "\n",
       "    .dataframe tbody tr th {\n",
       "        vertical-align: top;\n",
       "    }\n",
       "\n",
       "    .dataframe thead th {\n",
       "        text-align: right;\n",
       "    }\n",
       "</style>\n",
       "<table border=\"1\" class=\"dataframe\">\n",
       "  <thead>\n",
       "    <tr style=\"text-align: right;\">\n",
       "      <th></th>\n",
       "      <th>Subjectivity</th>\n",
       "      <th>Polarity</th>\n",
       "      <th>Negative</th>\n",
       "      <th>Neutral</th>\n",
       "      <th>Positive</th>\n",
       "    </tr>\n",
       "    <tr>\n",
       "      <th>publish_date</th>\n",
       "      <th></th>\n",
       "      <th></th>\n",
       "      <th></th>\n",
       "      <th></th>\n",
       "      <th></th>\n",
       "    </tr>\n",
       "  </thead>\n",
       "  <tbody>\n",
       "    <tr>\n",
       "      <th>2001-01-02</th>\n",
       "      <td>0.071802</td>\n",
       "      <td>0.042539</td>\n",
       "      <td>0.096907</td>\n",
       "      <td>0.831698</td>\n",
       "      <td>0.071395</td>\n",
       "    </tr>\n",
       "    <tr>\n",
       "      <th>2001-01-03</th>\n",
       "      <td>0.063720</td>\n",
       "      <td>0.014939</td>\n",
       "      <td>0.125634</td>\n",
       "      <td>0.786122</td>\n",
       "      <td>0.088268</td>\n",
       "    </tr>\n",
       "    <tr>\n",
       "      <th>2001-01-04</th>\n",
       "      <td>0.149389</td>\n",
       "      <td>0.039301</td>\n",
       "      <td>0.079392</td>\n",
       "      <td>0.835366</td>\n",
       "      <td>0.085235</td>\n",
       "    </tr>\n",
       "    <tr>\n",
       "      <th>2001-01-05</th>\n",
       "      <td>0.277985</td>\n",
       "      <td>0.146997</td>\n",
       "      <td>0.117810</td>\n",
       "      <td>0.741897</td>\n",
       "      <td>0.140278</td>\n",
       "    </tr>\n",
       "    <tr>\n",
       "      <th>2001-01-06</th>\n",
       "      <td>0.271212</td>\n",
       "      <td>0.128030</td>\n",
       "      <td>0.176250</td>\n",
       "      <td>0.703000</td>\n",
       "      <td>0.120750</td>\n",
       "    </tr>\n",
       "  </tbody>\n",
       "</table>\n",
       "</div>"
      ],
      "text/plain": [
       "              Subjectivity  Polarity  Negative   Neutral  Positive\n",
       "publish_date                                                      \n",
       "2001-01-02        0.071802  0.042539  0.096907  0.831698  0.071395\n",
       "2001-01-03        0.063720  0.014939  0.125634  0.786122  0.088268\n",
       "2001-01-04        0.149389  0.039301  0.079392  0.835366  0.085235\n",
       "2001-01-05        0.277985  0.146997  0.117810  0.741897  0.140278\n",
       "2001-01-06        0.271212  0.128030  0.176250  0.703000  0.120750"
      ]
     },
     "execution_count": 36,
     "metadata": {},
     "output_type": "execute_result"
    }
   ],
   "source": [
    "X = df_1.groupby('publish_date').mean()\n",
    "X.head()"
   ]
  },
  {
   "cell_type": "code",
   "execution_count": 39,
   "metadata": {},
   "outputs": [
    {
     "data": {
      "text/plain": [
       "Index(['Subjectivity', 'Polarity', 'Negative', 'Neutral', 'Positive'], dtype='object')"
      ]
     },
     "execution_count": 39,
     "metadata": {},
     "output_type": "execute_result"
    }
   ],
   "source": [
    "X.columns"
   ]
  },
  {
   "cell_type": "code",
   "execution_count": 40,
   "metadata": {},
   "outputs": [
    {
     "data": {
      "text/plain": [
       "(7262, 5)"
      ]
     },
     "execution_count": 40,
     "metadata": {},
     "output_type": "execute_result"
    }
   ],
   "source": [
    "X.shape"
   ]
  },
  {
   "cell_type": "code",
   "execution_count": 41,
   "metadata": {},
   "outputs": [
    {
     "data": {
      "text/plain": [
       "Subjectivity       0\n",
       "Polarity           0\n",
       "Negative           0\n",
       "Neutral            0\n",
       "Positive           0\n",
       "Close           2316\n",
       "dtype: int64"
      ]
     },
     "execution_count": 41,
     "metadata": {},
     "output_type": "execute_result"
    }
   ],
   "source": [
    "X['Close']= df['Close']\n",
    "X.isna().sum()"
   ]
  },
  {
   "cell_type": "code",
   "execution_count": 47,
   "metadata": {},
   "outputs": [
    {
     "data": {
      "text/html": [
       "<div>\n",
       "<style scoped>\n",
       "    .dataframe tbody tr th:only-of-type {\n",
       "        vertical-align: middle;\n",
       "    }\n",
       "\n",
       "    .dataframe tbody tr th {\n",
       "        vertical-align: top;\n",
       "    }\n",
       "\n",
       "    .dataframe thead th {\n",
       "        text-align: right;\n",
       "    }\n",
       "</style>\n",
       "<table border=\"1\" class=\"dataframe\">\n",
       "  <thead>\n",
       "    <tr style=\"text-align: right;\">\n",
       "      <th></th>\n",
       "      <th>Subjectivity</th>\n",
       "      <th>Polarity</th>\n",
       "      <th>Negative</th>\n",
       "      <th>Neutral</th>\n",
       "      <th>Positive</th>\n",
       "      <th>Close</th>\n",
       "    </tr>\n",
       "    <tr>\n",
       "      <th>publish_date</th>\n",
       "      <th></th>\n",
       "      <th></th>\n",
       "      <th></th>\n",
       "      <th></th>\n",
       "      <th></th>\n",
       "      <th></th>\n",
       "    </tr>\n",
       "  </thead>\n",
       "  <tbody>\n",
       "    <tr>\n",
       "      <th>2001-01-02</th>\n",
       "      <td>0.071802</td>\n",
       "      <td>0.042539</td>\n",
       "      <td>0.096907</td>\n",
       "      <td>0.831698</td>\n",
       "      <td>0.071395</td>\n",
       "      <td>4018.88</td>\n",
       "    </tr>\n",
       "    <tr>\n",
       "      <th>2001-01-03</th>\n",
       "      <td>0.063720</td>\n",
       "      <td>0.014939</td>\n",
       "      <td>0.125634</td>\n",
       "      <td>0.786122</td>\n",
       "      <td>0.088268</td>\n",
       "      <td>4060.02</td>\n",
       "    </tr>\n",
       "    <tr>\n",
       "      <th>2001-01-04</th>\n",
       "      <td>0.149389</td>\n",
       "      <td>0.039301</td>\n",
       "      <td>0.079392</td>\n",
       "      <td>0.835366</td>\n",
       "      <td>0.085235</td>\n",
       "      <td>4115.37</td>\n",
       "    </tr>\n",
       "    <tr>\n",
       "      <th>2001-01-05</th>\n",
       "      <td>0.277985</td>\n",
       "      <td>0.146997</td>\n",
       "      <td>0.117810</td>\n",
       "      <td>0.741897</td>\n",
       "      <td>0.140278</td>\n",
       "      <td>4183.73</td>\n",
       "    </tr>\n",
       "    <tr>\n",
       "      <th>2001-01-08</th>\n",
       "      <td>0.120920</td>\n",
       "      <td>0.011879</td>\n",
       "      <td>0.099197</td>\n",
       "      <td>0.818833</td>\n",
       "      <td>0.081970</td>\n",
       "      <td>4120.43</td>\n",
       "    </tr>\n",
       "  </tbody>\n",
       "</table>\n",
       "</div>"
      ],
      "text/plain": [
       "              Subjectivity  Polarity  Negative   Neutral  Positive    Close\n",
       "publish_date                                                               \n",
       "2001-01-02        0.071802  0.042539  0.096907  0.831698  0.071395  4018.88\n",
       "2001-01-03        0.063720  0.014939  0.125634  0.786122  0.088268  4060.02\n",
       "2001-01-04        0.149389  0.039301  0.079392  0.835366  0.085235  4115.37\n",
       "2001-01-05        0.277985  0.146997  0.117810  0.741897  0.140278  4183.73\n",
       "2001-01-08        0.120920  0.011879  0.099197  0.818833  0.081970  4120.43"
      ]
     },
     "execution_count": 47,
     "metadata": {},
     "output_type": "execute_result"
    }
   ],
   "source": [
    "X.head()"
   ]
  },
  {
   "cell_type": "code",
   "execution_count": 44,
   "metadata": {},
   "outputs": [
    {
     "data": {
      "text/plain": [
       "(4946, 6)"
      ]
     },
     "execution_count": 44,
     "metadata": {},
     "output_type": "execute_result"
    }
   ],
   "source": [
    "X.dropna(subset=['Close'],inplace=True)\n",
    "X.shape"
   ]
  },
  {
   "cell_type": "code",
   "execution_count": 46,
   "metadata": {},
   "outputs": [
    {
     "data": {
      "text/html": [
       "<div>\n",
       "<style scoped>\n",
       "    .dataframe tbody tr th:only-of-type {\n",
       "        vertical-align: middle;\n",
       "    }\n",
       "\n",
       "    .dataframe tbody tr th {\n",
       "        vertical-align: top;\n",
       "    }\n",
       "\n",
       "    .dataframe thead th {\n",
       "        text-align: right;\n",
       "    }\n",
       "</style>\n",
       "<table border=\"1\" class=\"dataframe\">\n",
       "  <thead>\n",
       "    <tr style=\"text-align: right;\">\n",
       "      <th></th>\n",
       "      <th>Subjectivity</th>\n",
       "      <th>Polarity</th>\n",
       "      <th>Negative</th>\n",
       "      <th>Neutral</th>\n",
       "      <th>Positive</th>\n",
       "    </tr>\n",
       "    <tr>\n",
       "      <th>publish_date</th>\n",
       "      <th></th>\n",
       "      <th></th>\n",
       "      <th></th>\n",
       "      <th></th>\n",
       "      <th></th>\n",
       "    </tr>\n",
       "  </thead>\n",
       "  <tbody>\n",
       "    <tr>\n",
       "      <th>2013-02-11</th>\n",
       "      <td>0.180212</td>\n",
       "      <td>0.035119</td>\n",
       "      <td>0.119206</td>\n",
       "      <td>0.798663</td>\n",
       "      <td>0.082128</td>\n",
       "    </tr>\n",
       "    <tr>\n",
       "      <th>2013-02-12</th>\n",
       "      <td>0.140770</td>\n",
       "      <td>0.013076</td>\n",
       "      <td>0.132391</td>\n",
       "      <td>0.797711</td>\n",
       "      <td>0.069893</td>\n",
       "    </tr>\n",
       "    <tr>\n",
       "      <th>2013-02-13</th>\n",
       "      <td>0.146384</td>\n",
       "      <td>0.028492</td>\n",
       "      <td>0.126848</td>\n",
       "      <td>0.796177</td>\n",
       "      <td>0.076983</td>\n",
       "    </tr>\n",
       "    <tr>\n",
       "      <th>2013-02-14</th>\n",
       "      <td>0.162798</td>\n",
       "      <td>0.036956</td>\n",
       "      <td>0.117452</td>\n",
       "      <td>0.788386</td>\n",
       "      <td>0.094160</td>\n",
       "    </tr>\n",
       "    <tr>\n",
       "      <th>2013-02-15</th>\n",
       "      <td>0.167306</td>\n",
       "      <td>0.033881</td>\n",
       "      <td>0.134283</td>\n",
       "      <td>0.788210</td>\n",
       "      <td>0.077512</td>\n",
       "    </tr>\n",
       "  </tbody>\n",
       "</table>\n",
       "</div>"
      ],
      "text/plain": [
       "              Subjectivity  Polarity  Negative   Neutral  Positive\n",
       "publish_date                                                      \n",
       "2013-02-11        0.180212  0.035119  0.119206  0.798663  0.082128\n",
       "2013-02-12        0.140770  0.013076  0.132391  0.797711  0.069893\n",
       "2013-02-13        0.146384  0.028492  0.126848  0.796177  0.076983\n",
       "2013-02-14        0.162798  0.036956  0.117452  0.788386  0.094160\n",
       "2013-02-15        0.167306  0.033881  0.134283  0.788210  0.077512"
      ]
     },
     "execution_count": 46,
     "metadata": {},
     "output_type": "execute_result"
    }
   ],
   "source": [
    "X_train = X.drop(['Close'],axis=1)\n",
    "X_train = X_train[:3000]\n",
    "X_train.tail()"
   ]
  },
  {
   "cell_type": "code",
   "execution_count": 48,
   "metadata": {},
   "outputs": [
    {
     "data": {
      "text/html": [
       "<div>\n",
       "<style scoped>\n",
       "    .dataframe tbody tr th:only-of-type {\n",
       "        vertical-align: middle;\n",
       "    }\n",
       "\n",
       "    .dataframe tbody tr th {\n",
       "        vertical-align: top;\n",
       "    }\n",
       "\n",
       "    .dataframe thead th {\n",
       "        text-align: right;\n",
       "    }\n",
       "</style>\n",
       "<table border=\"1\" class=\"dataframe\">\n",
       "  <thead>\n",
       "    <tr style=\"text-align: right;\">\n",
       "      <th></th>\n",
       "      <th>Subjectivity</th>\n",
       "      <th>Polarity</th>\n",
       "      <th>Negative</th>\n",
       "      <th>Neutral</th>\n",
       "      <th>Positive</th>\n",
       "    </tr>\n",
       "    <tr>\n",
       "      <th>publish_date</th>\n",
       "      <th></th>\n",
       "      <th></th>\n",
       "      <th></th>\n",
       "      <th></th>\n",
       "      <th></th>\n",
       "    </tr>\n",
       "  </thead>\n",
       "  <tbody>\n",
       "    <tr>\n",
       "      <th>2013-02-18</th>\n",
       "      <td>0.152007</td>\n",
       "      <td>0.022151</td>\n",
       "      <td>0.109747</td>\n",
       "      <td>0.808634</td>\n",
       "      <td>0.081624</td>\n",
       "    </tr>\n",
       "    <tr>\n",
       "      <th>2013-02-19</th>\n",
       "      <td>0.143963</td>\n",
       "      <td>0.021963</td>\n",
       "      <td>0.120381</td>\n",
       "      <td>0.814938</td>\n",
       "      <td>0.064681</td>\n",
       "    </tr>\n",
       "    <tr>\n",
       "      <th>2013-02-20</th>\n",
       "      <td>0.151154</td>\n",
       "      <td>0.022718</td>\n",
       "      <td>0.129987</td>\n",
       "      <td>0.798562</td>\n",
       "      <td>0.071456</td>\n",
       "    </tr>\n",
       "    <tr>\n",
       "      <th>2013-02-21</th>\n",
       "      <td>0.140210</td>\n",
       "      <td>0.013442</td>\n",
       "      <td>0.130581</td>\n",
       "      <td>0.800000</td>\n",
       "      <td>0.069411</td>\n",
       "    </tr>\n",
       "    <tr>\n",
       "      <th>2013-02-22</th>\n",
       "      <td>0.145000</td>\n",
       "      <td>0.014562</td>\n",
       "      <td>0.141020</td>\n",
       "      <td>0.789845</td>\n",
       "      <td>0.069140</td>\n",
       "    </tr>\n",
       "  </tbody>\n",
       "</table>\n",
       "</div>"
      ],
      "text/plain": [
       "              Subjectivity  Polarity  Negative   Neutral  Positive\n",
       "publish_date                                                      \n",
       "2013-02-18        0.152007  0.022151  0.109747  0.808634  0.081624\n",
       "2013-02-19        0.143963  0.021963  0.120381  0.814938  0.064681\n",
       "2013-02-20        0.151154  0.022718  0.129987  0.798562  0.071456\n",
       "2013-02-21        0.140210  0.013442  0.130581  0.800000  0.069411\n",
       "2013-02-22        0.145000  0.014562  0.141020  0.789845  0.069140"
      ]
     },
     "execution_count": 48,
     "metadata": {},
     "output_type": "execute_result"
    }
   ],
   "source": [
    "X_test = X.drop(['Close'],axis=1)\n",
    "X_test = X_test[3000:]\n",
    "X_test.head()"
   ]
  },
  {
   "cell_type": "code",
   "execution_count": 50,
   "metadata": {},
   "outputs": [],
   "source": [
    "Y_train= X['Close']\n",
    "Y_train = Y_train[:3000]\n",
    "Y_test = X['Close']\n",
    "Y_test = Y_test[3000:]"
   ]
  },
  {
   "cell_type": "code",
   "execution_count": 51,
   "metadata": {},
   "outputs": [],
   "source": [
    "rf = RandomForestRegressor()"
   ]
  },
  {
   "cell_type": "code",
   "execution_count": 52,
   "metadata": {},
   "outputs": [
    {
     "data": {
      "text/plain": [
       "RandomForestRegressor()"
      ]
     },
     "execution_count": 52,
     "metadata": {},
     "output_type": "execute_result"
    }
   ],
   "source": [
    "rf.fit(X_train,Y_train)"
   ]
  },
  {
   "cell_type": "code",
   "execution_count": 53,
   "metadata": {},
   "outputs": [],
   "source": [
    "pred = rf.predict(X_test)"
   ]
  },
  {
   "cell_type": "code",
   "execution_count": 59,
   "metadata": {},
   "outputs": [],
   "source": [
    "pred = pd.DataFrame(pred,index = X_test.index,columns=['Close'])"
   ]
  },
  {
   "cell_type": "code",
   "execution_count": 60,
   "metadata": {},
   "outputs": [
    {
     "data": {
      "text/plain": [
       "303712195.92242867"
      ]
     },
     "execution_count": 60,
     "metadata": {},
     "output_type": "execute_result"
    }
   ],
   "source": [
    "mean_squared_error(Y_test,pred)"
   ]
  },
  {
   "cell_type": "code",
   "execution_count": 61,
   "metadata": {},
   "outputs": [
    {
     "data": {
      "text/plain": [
       "<matplotlib.legend.Legend at 0x1f062837b80>"
      ]
     },
     "execution_count": 61,
     "metadata": {},
     "output_type": "execute_result"
    },
    {
     "data": {
      "image/png": "[encoded data removed]",
      "text/plain": [
       "<Figure size 432x288 with 1 Axes>"
      ]
     },
     "metadata": {
      "needs_background": "light"
     },
     "output_type": "display_data"
    }
   ],
   "source": [
    "plt.plot(Y_test)\n",
    "plt.plot(pred)\n",
    "plt.legend(['Actual','Predicted'])"
   ]
  },
  {
   "cell_type": "code",
   "execution_count": 62,
   "metadata": {},
   "outputs": [],
   "source": [
    "from sklearn.linear_model import LinearRegression\n",
    "lr = LinearRegression()"
   ]
  },
  {
   "cell_type": "code",
   "execution_count": 63,
   "metadata": {},
   "outputs": [
    {
     "data": {
      "text/plain": [
       "LinearRegression()"
      ]
     },
     "execution_count": 63,
     "metadata": {},
     "output_type": "execute_result"
    }
   ],
   "source": [
    "lr.fit(X_train,Y_train)"
   ]
  },
  {
   "cell_type": "code",
   "execution_count": 64,
   "metadata": {},
   "outputs": [],
   "source": [
    "pred = lr.predict(X_test)\n",
    "pred = pd.DataFrame(pred,index = X_test.index,columns=['Close'])"
   ]
  },
  {
   "cell_type": "code",
   "execution_count": 65,
   "metadata": {},
   "outputs": [
    {
     "data": {
      "text/plain": [
       "<matplotlib.legend.Legend at 0x1f061a24a60>"
      ]
     },
     "execution_count": 65,
     "metadata": {},
     "output_type": "execute_result"
    },
    {
     "data": {
      "image/png": "[encoded data removed]",
      "text/plain": [
       "<Figure size 432x288 with 1 Axes>"
      ]
     },
     "metadata": {
      "needs_background": "light"
     },
     "output_type": "display_data"
    }
   ],
   "source": [
    "plt.plot(Y_test)\n",
    "plt.plot(pred)\n",
    "plt.legend(['Actual','Predicted'])"
   ]
  },
  {
   "cell_type": "code",
   "execution_count": 76,
   "metadata": {},
   "outputs": [
    {
     "data": {
      "text/plain": [
       "2995   2012-12-31\n",
       "2996   2013-01-01\n",
       "2997   2013-01-02\n",
       "2998   2013-01-03\n",
       "2999   2013-01-04\n",
       "Name: Date, dtype: datetime64[ns]"
      ]
     },
     "execution_count": 76,
     "metadata": {},
     "output_type": "execute_result"
    }
   ],
   "source": [
    "x_train = df[:\n",
    "x_train = x_train[:3000]\n",
    "x_train.tail()"
   ]
  },
  {
   "cell_type": "code",
   "execution_count": 77,
   "metadata": {},
   "outputs": [],
   "source": [
    "x_test = df['Date']\n",
    "x_test = x_test[3000:]"
   ]
  },
  {
   "cell_type": "code",
   "execution_count": 78,
   "metadata": {},
   "outputs": [],
   "source": [
    "y_train = df['Close']\n",
    "y_train = y_train[:3000]\n",
    "y_test = df['Close']\n",
    "y_test = y_test[3000:]"
   ]
  },
  {
   "cell_type": "code",
   "execution_count": 82,
   "metadata": {},
   "outputs": [],
   "source": [
    "x_train = x_train.values.reshape(-1,1)\n",
    "x_test = x_test.values.reshape(-1,1)"
   ]
  },
  {
   "cell_type": "code",
   "execution_count": 83,
   "metadata": {},
   "outputs": [],
   "source": [
    "rfr = RandomForestRegressor()"
   ]
  },
  {
   "cell_type": "code",
   "execution_count": 84,
   "metadata": {},
   "outputs": [
    {
     "data": {
      "text/plain": [
       "RandomForestRegressor()"
      ]
     },
     "execution_count": 84,
     "metadata": {},
     "output_type": "execute_result"
    }
   ],
   "source": [
    "rfr.fit(x_train,y_train)"
   ]
  },
  {
   "cell_type": "code",
   "execution_count": 98,
   "metadata": {},
   "outputs": [],
   "source": [
    "pred = rfr.predict(x_test)\n"
   ]
  },
  {
   "cell_type": "code",
   "execution_count": 99,
   "metadata": {},
   "outputs": [
    {
     "data": {
      "text/plain": [
       "<matplotlib.legend.Legend at 0x1f06227f100>"
      ]
     },
     "execution_count": 99,
     "metadata": {},
     "output_type": "execute_result"
    },
    {
     "data": {
      "image/png": "[encoded data removed]",
      "text/plain": [
       "<Figure size 432x288 with 1 Axes>"
      ]
     },
     "metadata": {
      "needs_background": "light"
     },
     "output_type": "display_data"
    }
   ],
   "source": [
    "plt.plot(pred)\n",
    "#plt.plot(y_train)\n",
    "plt.legend(['Pred','y_train'])"
   ]
  },
  {
   "cell_type": "code",
   "execution_count": 102,
   "metadata": {},
   "outputs": [
    {
     "data": {
      "text/html": [
       "<div>\n",
       "<style scoped>\n",
       "    .dataframe tbody tr th:only-of-type {\n",
       "        vertical-align: middle;\n",
       "    }\n",
       "\n",
       "    .dataframe tbody tr th {\n",
       "        vertical-align: top;\n",
       "    }\n",
       "\n",
       "    .dataframe thead th {\n",
       "        text-align: right;\n",
       "    }\n",
       "</style>\n",
       "<table border=\"1\" class=\"dataframe\">\n",
       "  <thead>\n",
       "    <tr style=\"text-align: right;\">\n",
       "      <th></th>\n",
       "      <th>Subjectivity</th>\n",
       "      <th>Polarity</th>\n",
       "      <th>Negative</th>\n",
       "      <th>Neutral</th>\n",
       "      <th>Positive</th>\n",
       "      <th>Close</th>\n",
       "    </tr>\n",
       "    <tr>\n",
       "      <th>publish_date</th>\n",
       "      <th></th>\n",
       "      <th></th>\n",
       "      <th></th>\n",
       "      <th></th>\n",
       "      <th></th>\n",
       "      <th></th>\n",
       "    </tr>\n",
       "  </thead>\n",
       "  <tbody>\n",
       "    <tr>\n",
       "      <th>2001-01-02</th>\n",
       "      <td>0.143605</td>\n",
       "      <td>0.344859</td>\n",
       "      <td>0.218259</td>\n",
       "      <td>0.831698</td>\n",
       "      <td>0.117427</td>\n",
       "      <td>0.031422</td>\n",
       "    </tr>\n",
       "    <tr>\n",
       "      <th>2001-01-03</th>\n",
       "      <td>0.127439</td>\n",
       "      <td>0.257702</td>\n",
       "      <td>0.282960</td>\n",
       "      <td>0.786122</td>\n",
       "      <td>0.145178</td>\n",
       "      <td>0.032334</td>\n",
       "    </tr>\n",
       "    <tr>\n",
       "      <th>2001-01-04</th>\n",
       "      <td>0.298778</td>\n",
       "      <td>0.334635</td>\n",
       "      <td>0.178811</td>\n",
       "      <td>0.835366</td>\n",
       "      <td>0.140190</td>\n",
       "      <td>0.033559</td>\n",
       "    </tr>\n",
       "    <tr>\n",
       "      <th>2001-01-05</th>\n",
       "      <td>0.555970</td>\n",
       "      <td>0.674727</td>\n",
       "      <td>0.265337</td>\n",
       "      <td>0.741897</td>\n",
       "      <td>0.230720</td>\n",
       "      <td>0.035073</td>\n",
       "    </tr>\n",
       "    <tr>\n",
       "      <th>2001-01-08</th>\n",
       "      <td>0.241840</td>\n",
       "      <td>0.248037</td>\n",
       "      <td>0.223417</td>\n",
       "      <td>0.818833</td>\n",
       "      <td>0.134819</td>\n",
       "      <td>0.033672</td>\n",
       "    </tr>\n",
       "  </tbody>\n",
       "</table>\n",
       "</div>"
      ],
      "text/plain": [
       "              Subjectivity  Polarity  Negative   Neutral  Positive     Close\n",
       "publish_date                                                                \n",
       "2001-01-02        0.143605  0.344859  0.218259  0.831698  0.117427  0.031422\n",
       "2001-01-03        0.127439  0.257702  0.282960  0.786122  0.145178  0.032334\n",
       "2001-01-04        0.298778  0.334635  0.178811  0.835366  0.140190  0.033559\n",
       "2001-01-05        0.555970  0.674727  0.265337  0.741897  0.230720  0.035073\n",
       "2001-01-08        0.241840  0.248037  0.223417  0.818833  0.134819  0.033672"
      ]
     },
     "execution_count": 102,
     "metadata": {},
     "output_type": "execute_result"
    }
   ],
   "source": [
    "from sklearn.preprocessing import MinMaxScaler\n",
    "sc = MinMaxScaler()\n",
    "new_df = pd.DataFrame(sc.fit_transform(X))\n",
    "new_df.columns = X.columns\n",
    "new_df.index = X.index\n",
    "new_df.head()"
   ]
  },
  {
   "cell_type": "code",
   "execution_count": 144,
   "metadata": {},
   "outputs": [],
   "source": [
    "x = new_df.drop('Close', axis=1)\n",
    "y =new_df['Close']"
   ]
  },
  {
   "cell_type": "code",
   "execution_count": 145,
   "metadata": {},
   "outputs": [
    {
     "data": {
      "text/html": [
       "<div>\n",
       "<style scoped>\n",
       "    .dataframe tbody tr th:only-of-type {\n",
       "        vertical-align: middle;\n",
       "    }\n",
       "\n",
       "    .dataframe tbody tr th {\n",
       "        vertical-align: top;\n",
       "    }\n",
       "\n",
       "    .dataframe thead th {\n",
       "        text-align: right;\n",
       "    }\n",
       "</style>\n",
       "<table border=\"1\" class=\"dataframe\">\n",
       "  <thead>\n",
       "    <tr style=\"text-align: right;\">\n",
       "      <th></th>\n",
       "      <th>Subjectivity</th>\n",
       "      <th>Polarity</th>\n",
       "      <th>Negative</th>\n",
       "      <th>Neutral</th>\n",
       "      <th>Positive</th>\n",
       "    </tr>\n",
       "    <tr>\n",
       "      <th>publish_date</th>\n",
       "      <th></th>\n",
       "      <th></th>\n",
       "      <th></th>\n",
       "      <th></th>\n",
       "      <th></th>\n",
       "    </tr>\n",
       "  </thead>\n",
       "  <tbody>\n",
       "    <tr>\n",
       "      <th>2013-02-11</th>\n",
       "      <td>0.360424</td>\n",
       "      <td>0.321428</td>\n",
       "      <td>0.268483</td>\n",
       "      <td>0.798663</td>\n",
       "      <td>0.135078</td>\n",
       "    </tr>\n",
       "    <tr>\n",
       "      <th>2013-02-12</th>\n",
       "      <td>0.281539</td>\n",
       "      <td>0.251818</td>\n",
       "      <td>0.298177</td>\n",
       "      <td>0.797711</td>\n",
       "      <td>0.114955</td>\n",
       "    </tr>\n",
       "    <tr>\n",
       "      <th>2013-02-13</th>\n",
       "      <td>0.292768</td>\n",
       "      <td>0.300503</td>\n",
       "      <td>0.285694</td>\n",
       "      <td>0.796177</td>\n",
       "      <td>0.126617</td>\n",
       "    </tr>\n",
       "    <tr>\n",
       "      <th>2013-02-14</th>\n",
       "      <td>0.325596</td>\n",
       "      <td>0.327228</td>\n",
       "      <td>0.264532</td>\n",
       "      <td>0.788386</td>\n",
       "      <td>0.154869</td>\n",
       "    </tr>\n",
       "    <tr>\n",
       "      <th>2013-02-15</th>\n",
       "      <td>0.334611</td>\n",
       "      <td>0.317518</td>\n",
       "      <td>0.302440</td>\n",
       "      <td>0.788210</td>\n",
       "      <td>0.127487</td>\n",
       "    </tr>\n",
       "  </tbody>\n",
       "</table>\n",
       "</div>"
      ],
      "text/plain": [
       "              Subjectivity  Polarity  Negative   Neutral  Positive\n",
       "publish_date                                                      \n",
       "2013-02-11        0.360424  0.321428  0.268483  0.798663  0.135078\n",
       "2013-02-12        0.281539  0.251818  0.298177  0.797711  0.114955\n",
       "2013-02-13        0.292768  0.300503  0.285694  0.796177  0.126617\n",
       "2013-02-14        0.325596  0.327228  0.264532  0.788386  0.154869\n",
       "2013-02-15        0.334611  0.317518  0.302440  0.788210  0.127487"
      ]
     },
     "execution_count": 145,
     "metadata": {},
     "output_type": "execute_result"
    }
   ],
   "source": [
    "x_train = x[0:3000]\n",
    "x_train.tail()"
   ]
  },
  {
   "cell_type": "code",
   "execution_count": 146,
   "metadata": {},
   "outputs": [],
   "source": [
    "x_test = x[3000:]\n",
    "y_train = y[:3000]\n",
    "y_test = y[3000:]"
   ]
  },
  {
   "cell_type": "code",
   "execution_count": 108,
   "metadata": {},
   "outputs": [
    {
     "data": {
      "text/plain": [
       "RandomForestRegressor()"
      ]
     },
     "execution_count": 108,
     "metadata": {},
     "output_type": "execute_result"
    }
   ],
   "source": [
    "rfr.fit(x_train,y_train)"
   ]
  },
  {
   "cell_type": "code",
   "execution_count": 109,
   "metadata": {},
   "outputs": [],
   "source": [
    "pred = rfr.predict(x_test)\n",
    "pred = pd.DataFrame(pred,index = x_test.index,columns=['Close'])"
   ]
  },
  {
   "cell_type": "code",
   "execution_count": 110,
   "metadata": {},
   "outputs": [
    {
     "data": {
      "text/plain": [
       "[<matplotlib.lines.Line2D at 0x1f062375bb0>]"
      ]
     },
     "execution_count": 110,
     "metadata": {},
     "output_type": "execute_result"
    },
    {
     "data": {
      "image/png": "[encoded data removed]",
      "text/plain": [
       "<Figure size 432x288 with 1 Axes>"
      ]
     },
     "metadata": {
      "needs_background": "light"
     },
     "output_type": "display_data"
    }
   ],
   "source": [
    "plt.plot(pred)\n",
    "plt.plot(y_test)"
   ]
  },
  {
   "cell_type": "code",
   "execution_count": null,
   "metadata": {},
   "outputs": [],
   "source": []
  }
 ],
 "metadata": {
  "kernelspec": {
   "display_name": "Python 3",
   "language": "python",
   "name": "python3"
  },
  "language_info": {
   "codemirror_mode": {
    "name": "ipython",
    "version": 3
   },
   "file_extension": ".py",
   "mimetype": "text/x-python",
   "name": "python",
   "nbconvert_exporter": "python",
   "pygments_lexer": "ipython3",
   "version": "3.8.5"
  }
 },
 "nbformat": 4,
 "nbformat_minor": 4
}
